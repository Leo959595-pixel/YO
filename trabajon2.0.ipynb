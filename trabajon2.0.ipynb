{
 "cells": [
  {
   "cell_type": "markdown",
   "id": "f57bc7d3-e773-4f49-b11b-c5083eaae4c1",
   "metadata": {},
   "source": [
    "#### SALUDO PERSONALIZADO"
   ]
  },
  {
   "cell_type": "code",
   "execution_count": 4,
   "id": "a38044d7-1b37-40a1-bb5d-fc9aaa8c6090",
   "metadata": {},
   "outputs": [
    {
     "name": "stdin",
     "output_type": "stream",
     "text": [
      "Por favor, ingresa tu nombre:  fdfgsrdfgtd\n"
     ]
    },
    {
     "name": "stdout",
     "output_type": "stream",
     "text": [
      "¡Hola, fdfgsrdfgtd! Bienvenido/a.\n"
     ]
    }
   ],
   "source": [
    "pontunombre = input(\"Por favor, ingresa tu nombre: \")\n",
    "saludo = f\"¡Hola, {pontunombre}! Bienvenido/a.\"\n",
    "\n",
    "print(saludo)"
   ]
  },
  {
   "cell_type": "markdown",
   "id": "c61d195b-648c-4dd6-99ff-9f33ee1171fd",
   "metadata": {},
   "source": [
    "#### NUMERO PAR O IMPAR"
   ]
  },
  {
   "cell_type": "code",
   "execution_count": 33,
   "id": "f391d865-2257-4ddc-8a96-10a8fa8dcd55",
   "metadata": {},
   "outputs": [
    {
     "name": "stdin",
     "output_type": "stream",
     "text": [
      "Por favor, ingresa un número entero:  56656566818178768179863\n"
     ]
    },
    {
     "name": "stdout",
     "output_type": "stream",
     "text": [
      "El número 56656566818178768179863 es impar.\n"
     ]
    }
   ],
   "source": [
    "numeroparoimpar = int(input(\"Por favor, ingresa un número entero: \"))\n",
    "\n",
    "if numeroparoimpar % 2 == 0:\n",
    "    print(f\"El número {numeroparoimpar} es par.\")\n",
    "else:\n",
    "    print(f\"El número {numeroparoimpar} es impar.\")"
   ]
  },
  {
   "cell_type": "markdown",
   "id": "e3d6c509-61e2-4465-b2fe-8305202ee173",
   "metadata": {},
   "source": [
    "#### CUENTA VOCALES"
   ]
  },
  {
   "cell_type": "code",
   "execution_count": 35,
   "id": "45d1b1fc-81e0-4619-b887-7eca30b46cd1",
   "metadata": {},
   "outputs": [
    {
     "name": "stdin",
     "output_type": "stream",
     "text": [
      "Por favor, ingresa una palabra:  lkurcskrfsinflirafxunfopanotnioaiuoamcaouetiac nroauiñeuiñeuiñeuiñeuiñeuiñeuiñeeeee erahn\n"
     ]
    },
    {
     "name": "stdout",
     "output_type": "stream",
     "text": [
      "La palabra 'lkurcskrfsinflirafxunfopanotnioaiuoamcaouetiac nroauiñeuiñeuiñeuiñeuiñeuiñeuiñeeeee erahn' tiene 50 vocales.\n"
     ]
    }
   ],
   "source": [
    "ponlapalabra = input(\"Por favor, ingresa una palabra: \")\n",
    "\n",
    "vocales = \"aeiou\"\n",
    "\n",
    "cuentavocales = 0\n",
    "\n",
    "for letra in ponlapalabra:\n",
    "    if letra in vocales:\n",
    "        cuentavocales += 1\n",
    "\n",
    "print(f\"La palabra '{ponlapalabra}' tiene {cuentavocales} vocales.\")"
   ]
  },
  {
   "cell_type": "markdown",
   "id": "91eafb1f-c515-4dea-94bb-5393161d4922",
   "metadata": {},
   "source": [
    "#### ADIVINAR NUMERO DEL 1 AL 10"
   ]
  },
  {
   "cell_type": "code",
   "execution_count": 37,
   "id": "5958248d-5634-4a67-a9ce-3843a990e259",
   "metadata": {},
   "outputs": [
    {
     "name": "stdin",
     "output_type": "stream",
     "text": [
      "Adivina el número entre 1 y el 10 :  5\n"
     ]
    },
    {
     "name": "stdout",
     "output_type": "stream",
     "text": [
      "El número es mayor.\n"
     ]
    },
    {
     "name": "stdin",
     "output_type": "stream",
     "text": [
      "Adivina el número entre 1 y el 10 :  7\n"
     ]
    },
    {
     "name": "stdout",
     "output_type": "stream",
     "text": [
      "El número es mayor.\n"
     ]
    },
    {
     "name": "stdin",
     "output_type": "stream",
     "text": [
      "Adivina el número entre 1 y el 10 :  8\n"
     ]
    },
    {
     "name": "stdout",
     "output_type": "stream",
     "text": [
      "¡Felicidades! Adivinaste el número 8.\n"
     ]
    }
   ],
   "source": [
    "import random\n",
    "adivinar = random.randint(1, 10)\n",
    "intento = None\n",
    "\n",
    "while intento != adivinar:\n",
    "    intento = int(input(\"Adivina el número entre 1 y el 10 : \"))\n",
    "    \n",
    "    if intento < adivinar:\n",
    "        print(\"El número es mayor.\")\n",
    "    elif intento > adivinar:\n",
    "        print(\"El número es menor.\")\n",
    "    else:\n",
    "        print(f\"¡Felicidades! Adivinaste el número {adivinar}.\")"
   ]
  },
  {
   "cell_type": "markdown",
   "id": "6bb53774-430e-4b94-bad2-1293e9fdf773",
   "metadata": {},
   "source": [
    "#### TABLA DE MULTIPLICAR"
   ]
  },
  {
   "cell_type": "code",
   "execution_count": 53,
   "id": "fa9c089e-8128-4a92-8509-513df451313c",
   "metadata": {},
   "outputs": [
    {
     "name": "stdin",
     "output_type": "stream",
     "text": [
      "Por favor, ingresa un número:  987\n"
     ]
    },
    {
     "name": "stdout",
     "output_type": "stream",
     "text": [
      "Tabla de multiplicar del 987:\n",
      "987 x 1 = 987\n",
      "987 x 2 = 1974\n",
      "987 x 3 = 2961\n",
      "987 x 4 = 3948\n",
      "987 x 5 = 4935\n",
      "987 x 6 = 5922\n",
      "987 x 7 = 6909\n",
      "987 x 8 = 7896\n",
      "987 x 9 = 8883\n"
     ]
    }
   ],
   "source": [
    "numero = int(input(\"Por favor, ingresa un número: \"))\n",
    "\n",
    "print(f\"Tabla de multiplicar del {numero}:\")\n",
    "for x in range(1, 10):\n",
    "    resultado = numero * x\n",
    "    print(f\"{numero} x {x} = {resultado}\")"
   ]
  },
  {
   "cell_type": "markdown",
   "id": "e5b26eb2-35bc-4ad2-9fb9-a3439a6e113a",
   "metadata": {},
   "source": [
    "# PIRAMIDE CON N"
   ]
  },
  {
   "cell_type": "code",
   "execution_count": 24,
   "id": "d72beaae-6aac-4bbf-90ae-723de13b3580",
   "metadata": {},
   "outputs": [
    {
     "name": "stdin",
     "output_type": "stream",
     "text": [
      "Por favor, ingresa un número entero para los niveles de la pirámide:  8\n"
     ]
    },
    {
     "name": "stdout",
     "output_type": "stream",
     "text": [
      "       *\n",
      "      ***\n",
      "     *****\n",
      "    *******\n",
      "   *********\n",
      "  ***********\n",
      " *************\n",
      "***************\n"
     ]
    }
   ],
   "source": [
    "# Pide al usuario que ingrese un número entero\n",
    "n = int(input(\"Por favor, ingresa un número entero para los niveles de la pirámide: \"))\n",
    "\n",
    "# Dibuja la pirámide\n",
    "for i in range(1, n + 1):\n",
    "    # Imprime los espacios en blanco para centrar los asteriscos\n",
    "    print(\" \" * (n - i), end=\"\")\n",
    "    # Imprime los asteriscos\n",
    "    print(\"*\" * (2 * i - 1))"
   ]
  },
  {
   "cell_type": "markdown",
   "id": "73863676-5951-4f24-8e39-d17f1bf6d265",
   "metadata": {},
   "source": [
    "#### FIN"
   ]
  },
  {
   "cell_type": "code",
   "execution_count": null,
   "id": "bf721db3-428c-4c80-9630-f5c9da81718e",
   "metadata": {},
   "outputs": [],
   "source": []
  },
  {
   "cell_type": "code",
   "execution_count": null,
   "id": "579df2f8-a9a1-4123-9f44-c1ad5e2d1191",
   "metadata": {},
   "outputs": [],
   "source": []
  }
 ],
 "metadata": {
  "kernelspec": {
   "display_name": "Python [conda env:base] *",
   "language": "python",
   "name": "conda-base-py"
  },
  "language_info": {
   "codemirror_mode": {
    "name": "ipython",
    "version": 3
   },
   "file_extension": ".py",
   "mimetype": "text/x-python",
   "name": "python",
   "nbconvert_exporter": "python",
   "pygments_lexer": "ipython3",
   "version": "3.12.7"
  }
 },
 "nbformat": 4,
 "nbformat_minor": 5
}
