{
  "metadata": {
    "kernelspec": {
      "name": "python",
      "display_name": "Python (Pyodide)",
      "language": "python"
    },
    "language_info": {
      "codemirror_mode": {
        "name": "python",
        "version": 3
      },
      "file_extension": ".py",
      "mimetype": "text/x-python",
      "name": "python",
      "nbconvert_exporter": "python",
      "pygments_lexer": "ipython3",
      "version": "3.8"
    }
  },
  "nbformat_minor": 5,
  "nbformat": 4,
  "cells": [
    {
      "id": "1e209566-6687-4927-9ac6-1913d728778d",
      "cell_type": "code",
      "source": "class Producto:\n    \n    def __init__(self, nombre, categoria, precio):\n        self.categoria = categoria\n        self.precio = precio\n        self.nombre = nombre\n\n    def __gt__(self, otro):\n        return self.precio > otro.precio\n\n    def __lt__(self, otro):\n        return self.precio < otro.precio\n\n    def __eq__(self, otro):\n        if isinstance(otro, Producto):\n            return self.nombre == otro.nombre and self.categoria == otro.categoria\n        return False\n\n    def __repr__(self):\n        return self.__str__()\n\n    def __str__(self):\n        return f\"[{self.categoria}] {self.nombre} ${self.precio}\"\n\n\n\nclass Tienda:\n\n    def __init__(self, nombre, productos=[]):\n        self.productos = productos\n        self.nombre = nombre\n\n    def __str__(self):\n        return f\"Tienda: {self.nombre} --> {self.productos}\"\n\n    def ordenar_por_precio(self):\n        self.productos.sort()\n\n    def agregar_producto(self, prod):\n        self.productos.append(prod)\n        self.ordenar_por_precio()\n\n    def buscar_producto(self, nombre):\n        for p in self.productos:\n            if p.nombre == nombre:\n                return p\n        return None\n",
      "metadata": {
        "trusted": true
      },
      "outputs": [],
      "execution_count": 51
    },
    {
      "id": "e8c5ca31-6cad-432f-806a-18cf0d105976",
      "cell_type": "code",
      "source": "p1 = Producto(\"Cerebro de gomitas\", \"Dulceria\", 15.99)\np2 = Producto(\"Cafe\", \"Bebidas\", 9.75)\np3 = Producto(\"Zapato con luces\", \"Tecnología\", 129.50)\np4 = Producto(\"Plancha para ropa\", \"Electrodomésticos\", 79.99)",
      "metadata": {
        "trusted": true
      },
      "outputs": [],
      "execution_count": 52
    },
    {
      "id": "cb699d0f-36c3-44a5-a027-2140043e9c4f",
      "cell_type": "code",
      "source": "tienda = Tienda(\"MegaCosas\")\ntienda.agregar_producto(p2)\ntienda.agregar_producto(p1)\ntienda.agregar_producto(p4)\ntienda.agregar_producto(p3)",
      "metadata": {
        "trusted": true
      },
      "outputs": [],
      "execution_count": 53
    },
    {
      "id": "76288b9f-a352-4dba-bd7e-17af1fefeb46",
      "cell_type": "code",
      "source": "print(tienda)",
      "metadata": {
        "trusted": true
      },
      "outputs": [
        {
          "name": "stdout",
          "output_type": "stream",
          "text": "Tienda: MegaCosas --> [[Bebidas] Cafe $9.75, [Dulceria] Cerebro de gomitas $15.99, [Electrodomésticos] Plancha para ropa $79.99, [Tecnología] Zapato con luces $129.5]\n"
        }
      ],
      "execution_count": 54
    },
    {
      "id": "10bcc16a-d643-45d4-9517-f1e2622d02cc",
      "cell_type": "code",
      "source": "print(tienda.buscar_producto(\"Cafe\"))",
      "metadata": {
        "trusted": true
      },
      "outputs": [
        {
          "name": "stdout",
          "output_type": "stream",
          "text": "[Bebidas] Cafe $9.75\n"
        }
      ],
      "execution_count": 56
    },
    {
      "id": "df5bda1e-b3a1-40d4-821f-32ce50d3073d",
      "cell_type": "code",
      "source": "print(\"¿Los zapatos sonmas caros que las gomitas?\")\nprint(p3 > p1)",
      "metadata": {
        "trusted": true
      },
      "outputs": [
        {
          "name": "stdout",
          "output_type": "stream",
          "text": "¿Los zapatos sonmas caros que las gomitas?\nTrue\n¿Refresco de Neón es más barato que Sombrero de Sombras?\nTrue\n"
        }
      ],
      "execution_count": 57
    },
    {
      "id": "008abab0-15be-4bae-861b-b19f9a7a9ebd",
      "cell_type": "code",
      "source": "print(\"¿Refresco de Neón es más barato que Sombrero de Sombras?\")\nprint(p2 < p4)",
      "metadata": {
        "trusted": true
      },
      "outputs": [],
      "execution_count": null
    },
    {
      "id": "096f5642-cc33-463b-9089-96b0b217de85",
      "cell_type": "code",
      "source": "",
      "metadata": {
        "trusted": true
      },
      "outputs": [],
      "execution_count": null
    },
    {
      "id": "180a6b14-4c64-4361-a34c-b0919dd9c802",
      "cell_type": "code",
      "source": "",
      "metadata": {
        "trusted": true
      },
      "outputs": [],
      "execution_count": null
    }
  ]
}