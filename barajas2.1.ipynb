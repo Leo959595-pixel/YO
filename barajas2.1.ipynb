{
  "metadata": {
    "kernelspec": {
      "name": "python",
      "display_name": "Python (Pyodide)",
      "language": "python"
    },
    "language_info": {
      "codemirror_mode": {
        "name": "python",
        "version": 3
      },
      "file_extension": ".py",
      "mimetype": "text/x-python",
      "name": "python",
      "nbconvert_exporter": "python",
      "pygments_lexer": "ipython3",
      "version": "3.8"
    }
  },
  "nbformat_minor": 5,
  "nbformat": 4,
  "cells": [
    {
      "id": "d57d0f28-4748-4513-9805-1380393cce88",
      "cell_type": "code",
      "source": "import random\nfrom functools import total_ordering\n\nclass Carta:\n    \n    PALOS = {\"Trébol\": 1, \"Diamante\": 2, \"Pica\": 3, \"Corazón\": 4}\n    VALORES = {\n        \"A\": 1, \"2\": 2, \"3\": 3, \"4\": 4, \"5\": 5,\n        \"6\": 6, \"7\": 7, \"8\": 8, \"9\": 9, \"10\": 10,\n        \"J\": 11, \"Q\": 12, \"K\": 13\n    }\n\n    def __init__(self, palo, identificador):\n        self.palo = palo\n        self.identificador = str(identificador)\n\n    def __str__(self):\n        return self.identificador + \" de \" + self.palo\n\n    def __repr__(self):\n        return self.__str__()\n\n    def __eq__(self, otra):\n        return self.palo == otra.palo and self.identificador == otra.identificador\n\n    def __lt__(self, otra):\n        if Carta.PALOS[self.palo] != Carta.PALOS[otra.palo]:\n            return Carta.PALOS[self.palo] < Carta.PALOS[otra.palo]\n        return Carta.VALORES[self.identificador] < Carta.VALORES[otra.identificador]\n\nclass Baraja:\n    def __init__(self):\n        self.cartas = []\n        palos = [\"Trébol\", \"Diamante\", \"Pica\", \"Corazón\"]\n        valores = [\"A\", \"2\", \"3\", \"4\", \"5\", \"6\", \"7\", \"8\", \"9\", \"10\", \"J\", \"Q\", \"K\"]\n        for palo in palos:\n            for valor in valores:\n                nueva_carta = Carta(palo, valor)\n                self.cartas.append(nueva_carta)\n\n    def ordenar(self):\n        self.cartas.sort()  # Ordena usando __lt__ de la clase Carta\n\n    def barajar(self):\n        random.shuffle(self.cartas)  # Mezcla las cartas al azar\n\n    def __str__(self):\n        return \"\\n\".join(str(carta) for carta in self.cartas)\n\n    def __repr__(self):\n        return f\"Baraja({len(self.cartas)} cartas)\"\n\n# Parte principal del programa\nif __name__ == \"__main__\":\n    baraja = Baraja()\n\n    print(\"=== Baraja Ordenada ===\")\n    print(baraja)\n\n    baraja.barajar()\n    print(\"\\n=== Baraja Barajada ===\")\n    print(baraja)\n\n    baraja.ordenar()\n    print(\"\\n=== Baraja Ordenada de Nuevo ===\")\n    print(baraja)\n\n    # Comparar dos cartas\n    carta1 = Carta(\"Pica\", \"A\")\n    carta2 = Carta(\"Corazón\", \"K\")\n    print(f\"\\n¿{carta1} es menor que {carta2}? {carta1 < carta2}\")\n",
      "metadata": {
        "trusted": true
      },
      "outputs": [
        {
          "name": "stdout",
          "output_type": "stream",
          "text": "=== Baraja Ordenada ===\nA de Trébol\n2 de Trébol\n3 de Trébol\n4 de Trébol\n5 de Trébol\n6 de Trébol\n7 de Trébol\n8 de Trébol\n9 de Trébol\n10 de Trébol\nJ de Trébol\nQ de Trébol\nK de Trébol\nA de Diamante\n2 de Diamante\n3 de Diamante\n4 de Diamante\n5 de Diamante\n6 de Diamante\n7 de Diamante\n8 de Diamante\n9 de Diamante\n10 de Diamante\nJ de Diamante\nQ de Diamante\nK de Diamante\nA de Pica\n2 de Pica\n3 de Pica\n4 de Pica\n5 de Pica\n6 de Pica\n7 de Pica\n8 de Pica\n9 de Pica\n10 de Pica\nJ de Pica\nQ de Pica\nK de Pica\nA de Corazón\n2 de Corazón\n3 de Corazón\n4 de Corazón\n5 de Corazón\n6 de Corazón\n7 de Corazón\n8 de Corazón\n9 de Corazón\n10 de Corazón\nJ de Corazón\nQ de Corazón\nK de Corazón\n\n=== Baraja Barajada ===\nA de Corazón\n3 de Pica\n8 de Corazón\n8 de Diamante\nQ de Pica\n3 de Diamante\nK de Trébol\n6 de Pica\n4 de Corazón\n5 de Corazón\nQ de Corazón\n6 de Diamante\n10 de Trébol\n5 de Pica\n2 de Pica\n10 de Diamante\nJ de Trébol\nJ de Corazón\nJ de Pica\n9 de Diamante\n2 de Corazón\n6 de Trébol\nA de Pica\n2 de Diamante\nK de Pica\nQ de Diamante\nJ de Diamante\n5 de Diamante\n3 de Trébol\n9 de Pica\n10 de Pica\n3 de Corazón\n10 de Corazón\nK de Corazón\n4 de Diamante\nA de Diamante\n9 de Trébol\n4 de Trébol\n7 de Trébol\nA de Trébol\n2 de Trébol\n8 de Trébol\n9 de Corazón\n5 de Trébol\nQ de Trébol\n7 de Pica\n7 de Diamante\nK de Diamante\n8 de Pica\n6 de Corazón\n7 de Corazón\n4 de Pica\n\n=== Baraja Ordenada de Nuevo ===\nA de Trébol\n2 de Trébol\n3 de Trébol\n4 de Trébol\n5 de Trébol\n6 de Trébol\n7 de Trébol\n8 de Trébol\n9 de Trébol\n10 de Trébol\nJ de Trébol\nQ de Trébol\nK de Trébol\nA de Diamante\n2 de Diamante\n3 de Diamante\n4 de Diamante\n5 de Diamante\n6 de Diamante\n7 de Diamante\n8 de Diamante\n9 de Diamante\n10 de Diamante\nJ de Diamante\nQ de Diamante\nK de Diamante\nA de Pica\n2 de Pica\n3 de Pica\n4 de Pica\n5 de Pica\n6 de Pica\n7 de Pica\n8 de Pica\n9 de Pica\n10 de Pica\nJ de Pica\nQ de Pica\nK de Pica\nA de Corazón\n2 de Corazón\n3 de Corazón\n4 de Corazón\n5 de Corazón\n6 de Corazón\n7 de Corazón\n8 de Corazón\n9 de Corazón\n10 de Corazón\nJ de Corazón\nQ de Corazón\nK de Corazón\n\n¿A de Pica es menor que K de Corazón? True\n"
        }
      ],
      "execution_count": 4
    },
    {
      "id": "44200333-c51e-4a30-a7b7-731cfed9b81e",
      "cell_type": "code",
      "source": "",
      "metadata": {
        "trusted": true
      },
      "outputs": [],
      "execution_count": null
    }
  ]
}