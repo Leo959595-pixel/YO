{
  "metadata": {
    "kernelspec": {
      "name": "python",
      "display_name": "Python (Pyodide)",
      "language": "python"
    },
    "language_info": {
      "codemirror_mode": {
        "name": "python",
        "version": 3
      },
      "file_extension": ".py",
      "mimetype": "text/x-python",
      "name": "python",
      "nbconvert_exporter": "python",
      "pygments_lexer": "ipython3",
      "version": "3.8"
    }
  },
  "nbformat_minor": 5,
  "nbformat": 4,
  "cells": [
    {
      "id": "42fee888-0e83-4b99-8753-ee36801b5931",
      "cell_type": "markdown",
      "source": "## juego balatro balatron ##",
      "metadata": {}
    },
    {
      "id": "48061cfb",
      "cell_type": "code",
      "source": "import random\n\nclass CartonBingo:\n    def __init__(self):\n        self.carton = self.generar_carton()\n        self.marcados = [[False]*5 for _ in range(5)]\n        self.marcados[2][2] = True  # Casilla libre (centro)\n\n    def generar_carton(self):\n        columnas = {\n            0: random.sample(range(1, 16), 5),\n            1: random.sample(range(16, 31), 5),\n            2: random.sample(range(31, 46), 5),\n            3: random.sample(range(46, 61), 5),\n            4: random.sample(range(61, 75), 5),\n        }\n        columnas[2][2] = 0  # Casilla libre\n        return [[columnas[col][row] for col in range(5)] for row in range(5)]\n\n    def marcar_numero(self, numero):\n        for fila in range(5):\n            for col in range(5):\n                if self.carton[fila][col] == numero:\n                    self.marcados[fila][col] = True\n\n    def ha_ganado(self):\n        for fila in range(5):\n            for col in range(5):\n                if fila == 2 and col == 2:\n                    continue\n                if not self.marcados[fila][col]:\n                    return False\n        return True\n\n    def mostrar_carton(self, es_ganador=False):\n        if es_ganador:\n            print(\"Ganador\")\n        print(\" B   I   N   G   O\")\n        for fila in range(5):\n            for col in range(5):\n                val = self.carton[fila][col]\n                if val == 0:\n                    print(\" * \", end=\" \")\n                elif self.marcados[fila][col]:\n                    print(\" x \", end=\" \")\n                else:\n                    print(f\"{val:2d}\", end=\"  \")\n            print()",
      "metadata": {
        "trusted": true
      },
      "outputs": [],
      "execution_count": 158
    },
    {
      "id": "17bf3325",
      "cell_type": "code",
      "source": "class Jugador:\n    def __init__(self, nombre):\n        self.nombre = nombre\n        self.carton = CartonBingo()\n\n    def jugar_turno(self, numero):\n        self.carton.marcar_numero(numero)\n\n    def marcar(self, numero):\n        self.carton.marcar_numero(numero)\n\n    def ha_ganado(self):\n        return self.carton.ha_ganado()\n        \n    def mostrar_carton(self, es_ganador=False):\n        print(f\"\\nCartón de {self.nombre}:\")\n        self.carton.mostrar_carton(es_ganador)",
      "metadata": {
        "trusted": true
      },
      "outputs": [],
      "execution_count": 159
    },
    {
      "id": "bfed3597",
      "cell_type": "code",
      "source": "class Bombo:\n    def __init__(self):\n        self.numeros = list(range(1, 76))\n        random.shuffle(self.numeros)\n        self.usados = []\n\n    def sacar_numero(self):\n        if self.numeros:\n            numero = self.numeros.pop(0)\n            self.usados.append(numero)\n            return numero\n        return None",
      "metadata": {
        "trusted": true
      },
      "outputs": [],
      "execution_count": 160
    },
    {
      "id": "efd00de3",
      "cell_type": "code",
      "source": "class JuegoBingo:\n    def __init__(self, nombres_jugadores):\n        self.jugadores = [Jugador(nombre) for nombre in nombres_jugadores]\n        self.bombo = Bombo()\n        self.ganador = None\n\n    def jugar(self):\n        print(\"¡INICIANDO EL JUEGO DE BINGO!\")\n        for jugador in self.jugadores:\n            jugador.mostrar_carton()\n\n        while not self.ganador:\n            numero = self.bombo.sacar_numero()\n            if numero is None:\n                print(\"Si no queda mas numeros entonces el programa esta mal hecho\")\n                break\n\n            print(f\"\\nNúmero sorteado: {numero}\")\n            for jugador in self.jugadores:\n                jugador.jugar_turno(numero)\n\n            for jugador in self.jugadores:\n                if jugador.ha_ganado():\n                    self.ganador = jugador\n                    break\n\n        print(\"Resultados finales\")\n        for jugador in self.jugadores:\n            jugador.mostrar_carton(es_ganador=(jugador == self.ganador))\n\n        if self.ganador:\n            print(f\"\\n¡{self.ganador.nombre} se ha ganado una patada :) \")\n        else:\n            print(\"\\nNo hubo ganador.\")\n\n        print(\"\\nNúmeros sorteados:\", sorted(self.bombo.usados))\n",
      "metadata": {
        "trusted": true
      },
      "outputs": [],
      "execution_count": 163
    },
    {
      "id": "f9151e3f-f92e-4ccd-ba54-7a8b4e4f6252",
      "cell_type": "code",
      "source": "nombres = [\"A\", \"B\", \"C\"]\njuego = JuegoBingo(nombres)\njuego.jugar()",
      "metadata": {
        "trusted": true
      },
      "outputs": [
        {
          "name": "stdout",
          "output_type": "stream",
          "text": "¡INICIANDO EL JUEGO DE BINGO!\n\nCartón de A:\n B   I   N   G   O\n12  25  34  59  64  \n15  21  43  51  66  \n11  19   *  57  67  \n 7  27  35  55  71  \n 2  23  44  47  72  \n\nCartón de B:\n B   I   N   G   O\n 4  18  34  54  73  \n 7  19  31  53  68  \n 3  26   *  56  69  \n12  28  33  46  74  \n14  30  45  48  71  \n\nCartón de C:\n B   I   N   G   O\n 1  27  32  58  65  \n13  25  38  55  71  \n10  18   *  59  64  \n 7  22  33  47  72  \n 3  16  39  53  69  \n\nNúmero sorteado: 37\n\nNúmero sorteado: 32\n\nNúmero sorteado: 75\n\nNúmero sorteado: 22\n\nNúmero sorteado: 54\n\nNúmero sorteado: 51\n\nNúmero sorteado: 33\n\nNúmero sorteado: 70\n\nNúmero sorteado: 34\n\nNúmero sorteado: 58\n\nNúmero sorteado: 23\n\nNúmero sorteado: 48\n\nNúmero sorteado: 29\n\nNúmero sorteado: 67\n\nNúmero sorteado: 1\n\nNúmero sorteado: 30\n\nNúmero sorteado: 62\n\nNúmero sorteado: 40\n\nNúmero sorteado: 8\n\nNúmero sorteado: 42\n\nNúmero sorteado: 38\n\nNúmero sorteado: 56\n\nNúmero sorteado: 59\n\nNúmero sorteado: 3\n\nNúmero sorteado: 65\n\nNúmero sorteado: 69\n\nNúmero sorteado: 4\n\nNúmero sorteado: 61\n\nNúmero sorteado: 46\n\nNúmero sorteado: 52\n\nNúmero sorteado: 66\n\nNúmero sorteado: 55\n\nNúmero sorteado: 9\n\nNúmero sorteado: 36\n\nNúmero sorteado: 68\n\nNúmero sorteado: 12\n\nNúmero sorteado: 17\n\nNúmero sorteado: 10\n\nNúmero sorteado: 44\n\nNúmero sorteado: 57\n\nNúmero sorteado: 16\n\nNúmero sorteado: 11\n\nNúmero sorteado: 31\n\nNúmero sorteado: 60\n\nNúmero sorteado: 15\n\nNúmero sorteado: 49\n\nNúmero sorteado: 19\n\nNúmero sorteado: 20\n\nNúmero sorteado: 63\n\nNúmero sorteado: 25\n\nNúmero sorteado: 24\n\nNúmero sorteado: 74\n\nNúmero sorteado: 39\n\nNúmero sorteado: 26\n\nNúmero sorteado: 13\n\nNúmero sorteado: 18\n\nNúmero sorteado: 27\n\nNúmero sorteado: 64\n\nNúmero sorteado: 43\n\nNúmero sorteado: 41\n\nNúmero sorteado: 28\n\nNúmero sorteado: 2\n\nNúmero sorteado: 71\n\nNúmero sorteado: 45\n\nNúmero sorteado: 6\n\nNúmero sorteado: 14\n\nNúmero sorteado: 21\n\nNúmero sorteado: 53\n\nNúmero sorteado: 72\n\nNúmero sorteado: 50\n\nNúmero sorteado: 73\n\nNúmero sorteado: 7\nResultados finales\n\nCartón de A:\n B   I   N   G   O\n x   x   x   x   x  \n x   x   x   x   x  \n x   x   *   x   x  \n x   x  35   x   x  \n x   x   x  47   x  \n\nCartón de B:\n¡CARTÓN GANADOR! 🎉\n B   I   N   G   O\n x   x   x   x   x  \n x   x   x   x   x  \n x   x   *   x   x  \n x   x   x   x   x  \n x   x   x   x   x  \n\nCartón de C:\n B   I   N   G   O\n x   x   x   x   x  \n x   x   x   x   x  \n x   x   *   x   x  \n x   x   x  47   x  \n x   x   x   x   x  \n\n¡B se ha ganado una patada :) \n\n [1, 2, 3, 4, 6, 7, 8, 9, 10, 11, 12, 13, 14, 15, 16, 17, 18, 19, 20, 21, 22, 23, 24, 25, 26, 27, 28, 29, 30, 31, 32, 33, 34, 36, 37, 38, 39, 40, 41, 42, 43, 44, 45, 46, 48, 49, 50, 51, 52, 53, 54, 55, 56, 57, 58, 59, 60, 61, 62, 63, 64, 65, 66, 67, 68, 69, 70, 71, 72, 73, 74, 75]\n"
        }
      ],
      "execution_count": 164
    },
    {
      "id": "f3735cb2-4cec-46da-a60b-1a259c57b1c0",
      "cell_type": "code",
      "source": "\n",
      "metadata": {
        "trusted": true
      },
      "outputs": [],
      "execution_count": null
    },
    {
      "id": "5e640cec-b3e8-4905-bdf6-960c82306960",
      "cell_type": "code",
      "source": "",
      "metadata": {
        "trusted": true
      },
      "outputs": [],
      "execution_count": null
    },
    {
      "id": "2e338430-45f5-43b8-beba-3fdcaeca663d",
      "cell_type": "code",
      "source": "",
      "metadata": {
        "trusted": true
      },
      "outputs": [],
      "execution_count": null
    }
  ]
}