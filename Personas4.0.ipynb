{
  "metadata": {
    "kernelspec": {
      "name": "python",
      "display_name": "Python (Pyodide)",
      "language": "python"
    },
    "language_info": {
      "codemirror_mode": {
        "name": "python",
        "version": 3
      },
      "file_extension": ".py",
      "mimetype": "text/x-python",
      "name": "python",
      "nbconvert_exporter": "python",
      "pygments_lexer": "ipython3",
      "version": "3.8"
    }
  },
  "nbformat_minor": 5,
  "nbformat": 4,
  "cells": [
    {
      "id": "dfeb4f99-f36e-4020-9c27-3b298529e6f3",
      "cell_type": "code",
      "source": "from datetime import datetime\n\nclass Persona:\n    def __init__(self, nombre, apellido, fecha_nacimiento, altura):\n        self.nombre = nombre\n        self.apellido = apellido\n        self.fecha_nacimiento = fecha_nacimiento\n        self.altura = altura\n        hoy = datetime.now().date()\n        if fecha_nacimiento > hoy:\n            print(\"esto es ilegal\")\n            self.fecha_nacimiento = hoy\n        if altura < 0.5 or altura > 2.5:\n            print(\"esa altura no se puede\")\n            self.altura = 1.7  \n    \n    def saludar(self):\n        print(\"hola me llamo\", self.nombre, \"y tengo\", self.obtener_edad(), \"años\")\n\n    def obtener_edad(self):\n        hoy = datetime.now().date()\n        nac = self.fecha_nacimiento\n        edad = hoy.year - nac.year\n        if (hoy.month, hoy.day) < (nac.month, nac.day):\n            edad -= 1\n        return edad\n\n    def es_mayor_de_edad(self):\n        edad = self.obtener_edad()\n        if edad >= 18:\n            return True\n        else:\n            return False\n\n    def crecer(self, cm):\n        if type(cm) != int:\n            print(\"esto no es un número correcto\")\n        else:\n            self.altura += cm / 100\n            if self.altura > 2.5:\n                self.altura = 2.5\n            if self.altura < 0.5:\n                self.altura = 0.5\n\n    def cumple_hoy(self):\n        ahora = datetime.now().date()\n        return self.fecha_nacimiento.day == ahora.day and self.fecha_nacimiento.month == ahora.month\n\n    def dias_para_cumple(self):\n        hoy = datetime.now().date()\n        cumple = self.fecha_nacimiento.replace(year=hoy.year)\n        if cumple < hoy:\n            cumple = cumple.replace(year=hoy.year + 1)\n        dias = (cumple - hoy).days\n        return dias\n\n    def __str__(self):\n        return f\"[nombre:{self.nombre},apellido:{self.apellido}, edad:{self.obtener_edad()}]\"\n\n    def __repr__(self):\n        return self.__str__()\n\n    def __eq__(self, other):\n        if self.nombre == other.nombre:\n            if self.apellido == other.apellido:\n                if self.fecha_nacimiento == other.fecha_nacimiento:\n                    return True\n        return False\n        ",
      "metadata": {
        "trusted": true
      },
      "outputs": [],
      "execution_count": 28
    },
    {
      "id": "bb154f7b-2c04-4aa5-957c-8d670086a47a",
      "cell_type": "code",
      "source": "p1 = Persona(\"Juan\", \"Gabriel\", datetime(2000, 1, 1).date(), 1.8)\np2 = Persona(\"Jose\", \"Hernandez\", datetime(1990, 6, 15).date(), 2.6)  \np3 = Persona(\"Goku\", \"No tiene\", datetime(2026, 5, 1).date(), 0.4)    \npersonas = [p1, p2, p3]",
      "metadata": {
        "trusted": true
      },
      "outputs": [
        {
          "name": "stdout",
          "output_type": "stream",
          "text": "esa altura no se puede\nno puede nacer en el futuro\nesa altura no se puede\n"
        }
      ],
      "execution_count": 16
    },
    {
      "id": "d41f0534-6647-4a81-9d12-07a1224b3d9b",
      "cell_type": "code",
      "source": "p1.saludar()",
      "metadata": {
        "trusted": true
      },
      "outputs": [
        {
          "name": "stdout",
          "output_type": "stream",
          "text": "hola me llamo Juan y tengo 25 años\n"
        }
      ],
      "execution_count": 17
    },
    {
      "id": "8107dd97-8855-4154-b1a2-22e218cc9ca0",
      "cell_type": "code",
      "source": "print(p1 == p2)",
      "metadata": {
        "trusted": true
      },
      "outputs": [
        {
          "name": "stdout",
          "output_type": "stream",
          "text": "False\n"
        }
      ],
      "execution_count": 18
    },
    {
      "id": "197f4d4b-bc63-4e13-8cb8-ba36d30ef43a",
      "cell_type": "code",
      "source": "print(\"Cumple hoy:\", p1.cumple_hoy())",
      "metadata": {
        "trusted": true
      },
      "outputs": [
        {
          "name": "stdout",
          "output_type": "stream",
          "text": "Cumple hoy: False\n"
        }
      ],
      "execution_count": 19
    },
    {
      "id": "ec9880d0-bf04-40c6-85c9-ef544baeb7ba",
      "cell_type": "code",
      "source": "print(\"Días para su cumple:\", p1.dias_para_cumple())",
      "metadata": {
        "trusted": true
      },
      "outputs": [
        {
          "name": "stdout",
          "output_type": "stream",
          "text": "Días para su cumple: 244\n"
        }
      ],
      "execution_count": 20
    },
    {
      "id": "5a8d4f85-a01d-476c-a8db-cc2c47191f83",
      "cell_type": "code",
      "source": "print(\"¿Mayor de edad?\", p1.es_mayor_de_edad())",
      "metadata": {
        "trusted": true
      },
      "outputs": [
        {
          "name": "stdout",
          "output_type": "stream",
          "text": "¿Mayor de edad? True\n"
        }
      ],
      "execution_count": 21
    },
    {
      "id": "cfd28f4d-799b-4b2a-81b3-a0393490add4",
      "cell_type": "code",
      "source": "p1.crecer(10)\nprint(\"Altura nueva:\", p1.altura)",
      "metadata": {
        "trusted": true
      },
      "outputs": [
        {
          "name": "stdout",
          "output_type": "stream",
          "text": "Altura nueva: 1.9000000000000001\n"
        }
      ],
      "execution_count": 22
    },
    {
      "id": "3ab17f0b-96d3-4586-99ea-9a1033086e2b",
      "cell_type": "code",
      "source": "",
      "metadata": {
        "trusted": true
      },
      "outputs": [],
      "execution_count": null
    },
    {
      "id": "687b5f54-7415-4f2a-ac51-86e71c09b533",
      "cell_type": "code",
      "source": "",
      "metadata": {
        "trusted": true
      },
      "outputs": [],
      "execution_count": null
    }
  ]
}